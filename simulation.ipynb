{
 "cells": [
  {
   "cell_type": "code",
   "execution_count": 1,
   "metadata": {},
   "outputs": [
    {
     "ename": "error",
     "evalue": "Not connected to physics server.",
     "output_type": "error",
     "traceback": [
      "\u001b[1;31m---------------------------------------------------------------------------\u001b[0m",
      "\u001b[1;31merror\u001b[0m                                     Traceback (most recent call last)",
      "Cell \u001b[1;32mIn[1], line 14\u001b[0m\n\u001b[0;32m     11\u001b[0m actions \u001b[38;5;241m=\u001b[39m [[velocity_x, velocity_y, velocity_z, drop_command]]\n\u001b[0;32m     13\u001b[0m \u001b[38;5;66;03m# Run the simulation for a specified number of steps\u001b[39;00m\n\u001b[1;32m---> 14\u001b[0m \u001b[43msim\u001b[49m\u001b[38;5;241;43m.\u001b[39;49m\u001b[43mrun\u001b[49m\u001b[43m(\u001b[49m\u001b[43mactions\u001b[49m\u001b[43m,\u001b[49m\u001b[43m \u001b[49m\u001b[43mnum_steps\u001b[49m\u001b[38;5;241;43m=\u001b[39;49m\u001b[38;5;241;43m1000\u001b[39;49m\u001b[43m)\u001b[49m\n",
      "File \u001b[1;32mc:\\Users\\RafSi\\OneDrive\\Documenten\\GitHub\\ot2_hpt\\sim_class.py:209\u001b[0m, in \u001b[0;36mSimulation.run\u001b[1;34m(self, actions, num_steps)\u001b[0m\n\u001b[0;32m    207\u001b[0m n \u001b[38;5;241m=\u001b[39m \u001b[38;5;241m100\u001b[39m\n\u001b[0;32m    208\u001b[0m \u001b[38;5;28;01mfor\u001b[39;00m i \u001b[38;5;129;01min\u001b[39;00m \u001b[38;5;28mrange\u001b[39m(num_steps):\n\u001b[1;32m--> 209\u001b[0m     \u001b[38;5;28;43mself\u001b[39;49m\u001b[38;5;241;43m.\u001b[39;49m\u001b[43mapply_actions\u001b[49m\u001b[43m(\u001b[49m\u001b[43mactions\u001b[49m\u001b[43m)\u001b[49m\n\u001b[0;32m    210\u001b[0m     p\u001b[38;5;241m.\u001b[39mstepSimulation()\n\u001b[0;32m    212\u001b[0m     \u001b[38;5;66;03m# reset the droplet after 20 steps\u001b[39;00m\n\u001b[0;32m    213\u001b[0m     \u001b[38;5;66;03m# if self.dropped:\u001b[39;00m\n\u001b[0;32m    214\u001b[0m     \u001b[38;5;66;03m#     self.cooldown += 1\u001b[39;00m\n\u001b[1;32m   (...)\u001b[0m\n\u001b[0;32m    230\u001b[0m         \u001b[38;5;66;03m#     print(f'robot {i} link_state: {link_state}')\u001b[39;00m\n\u001b[0;32m    231\u001b[0m     \u001b[38;5;66;03m# check contact for each robot and specimen\u001b[39;00m\n",
      "File \u001b[1;32mc:\\Users\\RafSi\\OneDrive\\Documenten\\GitHub\\ot2_hpt\\sim_class.py:258\u001b[0m, in \u001b[0;36mSimulation.apply_actions\u001b[1;34m(self, actions)\u001b[0m\n\u001b[0;32m    256\u001b[0m \u001b[38;5;28;01mdef\u001b[39;00m \u001b[38;5;21mapply_actions\u001b[39m(\u001b[38;5;28mself\u001b[39m, actions): \u001b[38;5;66;03m# actions [[x,y,z,drop], [x,y,z,drop], ...\u001b[39;00m\n\u001b[0;32m    257\u001b[0m     \u001b[38;5;28;01mfor\u001b[39;00m i \u001b[38;5;129;01min\u001b[39;00m \u001b[38;5;28mrange\u001b[39m(\u001b[38;5;28mlen\u001b[39m(\u001b[38;5;28mself\u001b[39m\u001b[38;5;241m.\u001b[39mrobotIds)):\n\u001b[1;32m--> 258\u001b[0m         \u001b[43mp\u001b[49m\u001b[38;5;241;43m.\u001b[39;49m\u001b[43msetJointMotorControl2\u001b[49m\u001b[43m(\u001b[49m\u001b[38;5;28;43mself\u001b[39;49m\u001b[38;5;241;43m.\u001b[39;49m\u001b[43mrobotIds\u001b[49m\u001b[43m[\u001b[49m\u001b[43mi\u001b[49m\u001b[43m]\u001b[49m\u001b[43m,\u001b[49m\u001b[43m \u001b[49m\u001b[38;5;241;43m0\u001b[39;49m\u001b[43m,\u001b[49m\u001b[43m \u001b[49m\u001b[43mp\u001b[49m\u001b[38;5;241;43m.\u001b[39;49m\u001b[43mVELOCITY_CONTROL\u001b[49m\u001b[43m,\u001b[49m\u001b[43m \u001b[49m\u001b[43mtargetVelocity\u001b[49m\u001b[38;5;241;43m=\u001b[39;49m\u001b[38;5;241;43m-\u001b[39;49m\u001b[43mactions\u001b[49m\u001b[43m[\u001b[49m\u001b[43mi\u001b[49m\u001b[43m]\u001b[49m\u001b[43m[\u001b[49m\u001b[38;5;241;43m0\u001b[39;49m\u001b[43m]\u001b[49m\u001b[43m,\u001b[49m\u001b[43m \u001b[49m\u001b[43mforce\u001b[49m\u001b[38;5;241;43m=\u001b[39;49m\u001b[38;5;241;43m500\u001b[39;49m\u001b[43m)\u001b[49m\n\u001b[0;32m    259\u001b[0m         p\u001b[38;5;241m.\u001b[39msetJointMotorControl2(\u001b[38;5;28mself\u001b[39m\u001b[38;5;241m.\u001b[39mrobotIds[i], \u001b[38;5;241m1\u001b[39m, p\u001b[38;5;241m.\u001b[39mVELOCITY_CONTROL, targetVelocity\u001b[38;5;241m=\u001b[39m\u001b[38;5;241m-\u001b[39mactions[i][\u001b[38;5;241m1\u001b[39m], force\u001b[38;5;241m=\u001b[39m\u001b[38;5;241m500\u001b[39m)\n\u001b[0;32m    260\u001b[0m         p\u001b[38;5;241m.\u001b[39msetJointMotorControl2(\u001b[38;5;28mself\u001b[39m\u001b[38;5;241m.\u001b[39mrobotIds[i], \u001b[38;5;241m2\u001b[39m, p\u001b[38;5;241m.\u001b[39mVELOCITY_CONTROL, targetVelocity\u001b[38;5;241m=\u001b[39mactions[i][\u001b[38;5;241m2\u001b[39m], force\u001b[38;5;241m=\u001b[39m\u001b[38;5;241m800\u001b[39m)\n",
      "\u001b[1;31merror\u001b[0m: Not connected to physics server."
     ]
    }
   ],
   "source": [
    "from sim_class import Simulation\n",
    "\n",
    "# Initialize the simulation with a specified number of agents\n",
    "sim = Simulation(num_agents=1)  # For one robot\n",
    "\n",
    "# Example action: Move joints with specific velocities\n",
    "velocity_x = 0.1\n",
    "velocity_y = 0.1     \n",
    "velocity_z = 0.1\n",
    "drop_command = 0\n",
    "actions = [[velocity_x, velocity_y, velocity_z, drop_command]]\n",
    "\n",
    "# Run the simulation for a specified number of steps\n",
    "sim.run(actions, num_steps=1000)"
   ]
  }
 ],
 "metadata": {
  "kernelspec": {
   "display_name": "y2_blockb",
   "language": "python",
   "name": "python3"
  },
  "language_info": {
   "codemirror_mode": {
    "name": "ipython",
    "version": 3
   },
   "file_extension": ".py",
   "mimetype": "text/x-python",
   "name": "python",
   "nbconvert_exporter": "python",
   "pygments_lexer": "ipython3",
   "version": "3.9.21"
  }
 },
 "nbformat": 4,
 "nbformat_minor": 2
}
