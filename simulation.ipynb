{
 "cells": [
  {
   "cell_type": "code",
   "execution_count": 1,
   "metadata": {},
   "outputs": [
    {
     "data": {
      "text/plain": [
       "{'robotId_1': {'joint_states': {'joint_0': {'position': -0.18000202514825905,\n",
       "    'velocity': 0.0001351897597496777,\n",
       "    'reaction_forces': (0.0, 0.0, 0.0, 0.0, 0.0, 0.0),\n",
       "    'motor_torque': -500.00000000000006},\n",
       "   'joint_1': {'position': -0.130009035250755,\n",
       "    'velocity': 0.0005485538164993085,\n",
       "    'reaction_forces': (0.0, 0.0, 0.0, 0.0, 0.0, 0.0),\n",
       "    'motor_torque': -500.00000000000006},\n",
       "   'joint_2': {'position': 0.17017015626300608,\n",
       "    'velocity': -0.010209375780364294,\n",
       "    'reaction_forces': (0.0, 0.0, 0.0, 0.0, 0.0, 0.0),\n",
       "    'motor_torque': 800.0}},\n",
       "  'robot_position': [0.1800023510089135,\n",
       "   0.13000901165406797,\n",
       "   0.20017009488091778],\n",
       "  'pipette_position': [0.253, 0.2195, 0.2897]}}"
      ]
     },
     "execution_count": 1,
     "metadata": {},
     "output_type": "execute_result"
    }
   ],
   "source": [
    "from sim_class import Simulation\n",
    "\n",
    "# Initialize the simulation with a specified number of agents\n",
    "sim = Simulation(num_agents=1)  # For one robot\n",
    "\n",
    "# Example action: Move joints with specific velocities\n",
    "velocity_x = 0.1\n",
    "velocity_y = 0.1     \n",
    "velocity_z = 0.1\n",
    "drop_command = 0\n",
    "actions = [[velocity_x, velocity_y, velocity_z, drop_command]]\n",
    "\n",
    "# Run the simulation for a specified number of steps\n",
    "sim.run(actions, num_steps=1000)"
   ]
  }
 ],
 "metadata": {
  "kernelspec": {
   "display_name": "y2_blockb",
   "language": "python",
   "name": "python3"
  },
  "language_info": {
   "codemirror_mode": {
    "name": "ipython",
    "version": 3
   },
   "file_extension": ".py",
   "mimetype": "text/x-python",
   "name": "python",
   "nbconvert_exporter": "python",
   "pygments_lexer": "ipython3",
   "version": "3.9.21"
  }
 },
 "nbformat": 4,
 "nbformat_minor": 2
}
